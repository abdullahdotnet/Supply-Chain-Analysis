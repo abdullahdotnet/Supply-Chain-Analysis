{
 "cells": [
  {
   "cell_type": "code",
   "execution_count": 2,
   "id": "dd44f7ae-6b31-44bd-a504-f7c0e9e5b232",
   "metadata": {},
   "outputs": [],
   "source": [
    "import pandas as pd"
   ]
  },
  {
   "cell_type": "code",
   "execution_count": null,
   "id": "94f4f84b-48e8-4ec9-a62d-706d4e8b1424",
   "metadata": {},
   "outputs": [],
   "source": []
  },
  {
   "cell_type": "code",
   "execution_count": 23,
   "id": "736709ce-3aa9-462c-99b2-83f7b2e11ced",
   "metadata": {},
   "outputs": [
    {
     "data": {
      "text/html": [
       "<div>\n",
       "<style scoped>\n",
       "    .dataframe tbody tr th:only-of-type {\n",
       "        vertical-align: middle;\n",
       "    }\n",
       "\n",
       "    .dataframe tbody tr th {\n",
       "        vertical-align: top;\n",
       "    }\n",
       "\n",
       "    .dataframe thead th {\n",
       "        text-align: right;\n",
       "    }\n",
       "</style>\n",
       "<table border=\"1\" class=\"dataframe\">\n",
       "  <thead>\n",
       "    <tr style=\"text-align: right;\">\n",
       "      <th></th>\n",
       "      <th>payment_type</th>\n",
       "      <th>profit_per_order</th>\n",
       "      <th>sales_per_customer</th>\n",
       "      <th>category_id</th>\n",
       "      <th>category_name</th>\n",
       "      <th>customer_city</th>\n",
       "      <th>customer_country</th>\n",
       "      <th>customer_id</th>\n",
       "      <th>customer_segment</th>\n",
       "      <th>customer_state</th>\n",
       "      <th>...</th>\n",
       "      <th>order_region</th>\n",
       "      <th>order_state</th>\n",
       "      <th>order_status</th>\n",
       "      <th>product_card_id</th>\n",
       "      <th>product_category_id</th>\n",
       "      <th>product_name</th>\n",
       "      <th>product_price</th>\n",
       "      <th>shipping_date</th>\n",
       "      <th>shipping_mode</th>\n",
       "      <th>label</th>\n",
       "    </tr>\n",
       "  </thead>\n",
       "  <tbody>\n",
       "    <tr>\n",
       "      <th>0</th>\n",
       "      <td>DEBIT</td>\n",
       "      <td>34.448338</td>\n",
       "      <td>92.49099</td>\n",
       "      <td>9.0</td>\n",
       "      <td>Cardio Equipment</td>\n",
       "      <td>Caguas</td>\n",
       "      <td>Puerto Rico</td>\n",
       "      <td>12097.6830</td>\n",
       "      <td>Consumer</td>\n",
       "      <td>PR</td>\n",
       "      <td>...</td>\n",
       "      <td>Western Europe</td>\n",
       "      <td>Vienna</td>\n",
       "      <td>COMPLETE</td>\n",
       "      <td>191.0</td>\n",
       "      <td>9.0</td>\n",
       "      <td>Nike Men's Free 5.0+ Running Shoe</td>\n",
       "      <td>99.99</td>\n",
       "      <td>2015-08-13 00:00:00+01:00</td>\n",
       "      <td>Standard Class</td>\n",
       "      <td>-1</td>\n",
       "    </tr>\n",
       "    <tr>\n",
       "      <th>1</th>\n",
       "      <td>TRANSFER</td>\n",
       "      <td>91.193540</td>\n",
       "      <td>181.99008</td>\n",
       "      <td>48.0</td>\n",
       "      <td>Water Sports</td>\n",
       "      <td>Albuquerque</td>\n",
       "      <td>EE. UU.</td>\n",
       "      <td>5108.1045</td>\n",
       "      <td>Consumer</td>\n",
       "      <td>CA</td>\n",
       "      <td>...</td>\n",
       "      <td>South America</td>\n",
       "      <td>Buenos Aires</td>\n",
       "      <td>PENDING</td>\n",
       "      <td>1073.0</td>\n",
       "      <td>48.0</td>\n",
       "      <td>Pelican Sunstream 100 Kayak</td>\n",
       "      <td>199.99</td>\n",
       "      <td>2017-04-09 00:00:00+01:00</td>\n",
       "      <td>Standard Class</td>\n",
       "      <td>-1</td>\n",
       "    </tr>\n",
       "    <tr>\n",
       "      <th>2</th>\n",
       "      <td>DEBIT</td>\n",
       "      <td>8.313806</td>\n",
       "      <td>89.96643</td>\n",
       "      <td>46.0</td>\n",
       "      <td>Indoor/Outdoor Games</td>\n",
       "      <td>Amarillo</td>\n",
       "      <td>Puerto Rico</td>\n",
       "      <td>4293.4478</td>\n",
       "      <td>Consumer</td>\n",
       "      <td>PR</td>\n",
       "      <td>...</td>\n",
       "      <td>Western Europe</td>\n",
       "      <td>Nord-Pas-de-Calais-Picardy</td>\n",
       "      <td>COMPLETE</td>\n",
       "      <td>1014.0</td>\n",
       "      <td>46.0</td>\n",
       "      <td>O'Brien Men's Neoprene Life Vest</td>\n",
       "      <td>49.98</td>\n",
       "      <td>2015-03-18 00:00:00+00:00</td>\n",
       "      <td>Second Class</td>\n",
       "      <td>1</td>\n",
       "    </tr>\n",
       "    <tr>\n",
       "      <th>3</th>\n",
       "      <td>TRANSFER</td>\n",
       "      <td>-89.463196</td>\n",
       "      <td>99.15065</td>\n",
       "      <td>17.0</td>\n",
       "      <td>Cleats</td>\n",
       "      <td>Caguas</td>\n",
       "      <td>Puerto Rico</td>\n",
       "      <td>546.5306</td>\n",
       "      <td>Consumer</td>\n",
       "      <td>PR</td>\n",
       "      <td>...</td>\n",
       "      <td>Central America</td>\n",
       "      <td>Santa Ana</td>\n",
       "      <td>PROCESSING</td>\n",
       "      <td>365.0</td>\n",
       "      <td>17.0</td>\n",
       "      <td>Perfect Fitness Perfect Rip Deck</td>\n",
       "      <td>59.99</td>\n",
       "      <td>2017-03-18 00:00:00+00:00</td>\n",
       "      <td>Second Class</td>\n",
       "      <td>0</td>\n",
       "    </tr>\n",
       "    <tr>\n",
       "      <th>4</th>\n",
       "      <td>DEBIT</td>\n",
       "      <td>44.722590</td>\n",
       "      <td>170.97824</td>\n",
       "      <td>48.0</td>\n",
       "      <td>Water Sports</td>\n",
       "      <td>Peabody</td>\n",
       "      <td>EE. UU.</td>\n",
       "      <td>1546.3980</td>\n",
       "      <td>Consumer</td>\n",
       "      <td>CA</td>\n",
       "      <td>...</td>\n",
       "      <td>Central America</td>\n",
       "      <td>Illinois</td>\n",
       "      <td>COMPLETE</td>\n",
       "      <td>1073.0</td>\n",
       "      <td>48.0</td>\n",
       "      <td>Pelican Sunstream 100 Kayak</td>\n",
       "      <td>199.99</td>\n",
       "      <td>2015-03-30 00:00:00+01:00</td>\n",
       "      <td>Standard Class</td>\n",
       "      <td>1</td>\n",
       "    </tr>\n",
       "  </tbody>\n",
       "</table>\n",
       "<p>5 rows × 41 columns</p>\n",
       "</div>"
      ],
      "text/plain": [
       "  payment_type  profit_per_order  sales_per_customer  category_id  \\\n",
       "0        DEBIT         34.448338            92.49099          9.0   \n",
       "1     TRANSFER         91.193540           181.99008         48.0   \n",
       "2        DEBIT          8.313806            89.96643         46.0   \n",
       "3     TRANSFER        -89.463196            99.15065         17.0   \n",
       "4        DEBIT         44.722590           170.97824         48.0   \n",
       "\n",
       "          category_name customer_city customer_country  customer_id  \\\n",
       "0      Cardio Equipment        Caguas      Puerto Rico   12097.6830   \n",
       "1          Water Sports   Albuquerque          EE. UU.    5108.1045   \n",
       "2  Indoor/Outdoor Games      Amarillo      Puerto Rico    4293.4478   \n",
       "3                Cleats        Caguas      Puerto Rico     546.5306   \n",
       "4          Water Sports       Peabody          EE. UU.    1546.3980   \n",
       "\n",
       "  customer_segment customer_state  ...     order_region  \\\n",
       "0         Consumer             PR  ...   Western Europe   \n",
       "1         Consumer             CA  ...    South America   \n",
       "2         Consumer             PR  ...   Western Europe   \n",
       "3         Consumer             PR  ...  Central America   \n",
       "4         Consumer             CA  ...  Central America   \n",
       "\n",
       "                  order_state order_status  product_card_id  \\\n",
       "0                      Vienna     COMPLETE            191.0   \n",
       "1                Buenos Aires      PENDING           1073.0   \n",
       "2  Nord-Pas-de-Calais-Picardy     COMPLETE           1014.0   \n",
       "3                   Santa Ana   PROCESSING            365.0   \n",
       "4                    Illinois     COMPLETE           1073.0   \n",
       "\n",
       "   product_category_id                       product_name product_price  \\\n",
       "0                  9.0  Nike Men's Free 5.0+ Running Shoe         99.99   \n",
       "1                 48.0        Pelican Sunstream 100 Kayak        199.99   \n",
       "2                 46.0   O'Brien Men's Neoprene Life Vest         49.98   \n",
       "3                 17.0   Perfect Fitness Perfect Rip Deck         59.99   \n",
       "4                 48.0        Pelican Sunstream 100 Kayak        199.99   \n",
       "\n",
       "               shipping_date   shipping_mode label  \n",
       "0  2015-08-13 00:00:00+01:00  Standard Class    -1  \n",
       "1  2017-04-09 00:00:00+01:00  Standard Class    -1  \n",
       "2  2015-03-18 00:00:00+00:00    Second Class     1  \n",
       "3  2017-03-18 00:00:00+00:00    Second Class     0  \n",
       "4  2015-03-30 00:00:00+01:00  Standard Class     1  \n",
       "\n",
       "[5 rows x 41 columns]"
      ]
     },
     "execution_count": 23,
     "metadata": {},
     "output_type": "execute_result"
    }
   ],
   "source": [
    "df  = pd.read_csv('data.csv')\n",
    "df.head()"
   ]
  },
  {
   "cell_type": "code",
   "execution_count": 24,
   "id": "8658994f-bd23-4019-b57d-1798591440a7",
   "metadata": {},
   "outputs": [
    {
     "data": {
      "text/plain": [
       "Index(['payment_type', 'profit_per_order', 'sales_per_customer', 'category_id',\n",
       "       'category_name', 'customer_city', 'customer_country', 'customer_id',\n",
       "       'customer_segment', 'customer_state', 'customer_zipcode',\n",
       "       'department_id', 'department_name', 'latitude', 'longitude', 'market',\n",
       "       'order_city', 'order_country', 'order_customer_id', 'order_date',\n",
       "       'order_id', 'order_item_cardprod_id', 'order_item_discount',\n",
       "       'order_item_discount_rate', 'order_item_id', 'order_item_product_price',\n",
       "       'order_item_profit_ratio', 'order_item_quantity', 'sales',\n",
       "       'order_item_total_amount', 'order_profit_per_order', 'order_region',\n",
       "       'order_state', 'order_status', 'product_card_id', 'product_category_id',\n",
       "       'product_name', 'product_price', 'shipping_date', 'shipping_mode',\n",
       "       'label'],\n",
       "      dtype='object')"
      ]
     },
     "execution_count": 24,
     "metadata": {},
     "output_type": "execute_result"
    }
   ],
   "source": [
    "df.columns"
   ]
  },
  {
   "cell_type": "code",
   "execution_count": 25,
   "id": "b697131e-7b71-4737-929d-79638b422743",
   "metadata": {},
   "outputs": [
    {
     "data": {
      "text/plain": [
       "customer_segment\n",
       "Consumer       8332\n",
       "Corporate      4603\n",
       "Home Office    2614\n",
       "Name: count, dtype: int64"
      ]
     },
     "execution_count": 25,
     "metadata": {},
     "output_type": "execute_result"
    }
   ],
   "source": [
    "df['customer_segment'].value_counts()"
   ]
  },
  {
   "cell_type": "code",
   "execution_count": 26,
   "id": "4ef71cb4-2574-4e50-bbc8-47d7954ec17d",
   "metadata": {},
   "outputs": [
    {
     "data": {
      "text/plain": [
       "0         99.990000\n",
       "1        199.990000\n",
       "2         99.960000\n",
       "3        119.980000\n",
       "4        199.990000\n",
       "            ...    \n",
       "15544    399.980000\n",
       "15545    199.920000\n",
       "15546     59.971092\n",
       "15547     59.990000\n",
       "15548    327.186340\n",
       "Name: sales, Length: 15549, dtype: float64"
      ]
     },
     "execution_count": 26,
     "metadata": {},
     "output_type": "execute_result"
    }
   ],
   "source": [
    "df['sales']"
   ]
  },
  {
   "cell_type": "code",
   "execution_count": 28,
   "id": "3ca993e8-4a94-4d3d-adbb-018da743b1ab",
   "metadata": {},
   "outputs": [],
   "source": [
    "salessegment = df.groupby('customer_segment')['sales'].sum().reset_index().sort_values(by='sales')\n",
    "salessegment.rename(columns={'customer_segment': 'Segment','sales':\"Total Sales\"},inplace=True)"
   ]
  },
  {
   "cell_type": "code",
   "execution_count": 29,
   "id": "fd122f35-325d-411d-aaa7-164444aa79ae",
   "metadata": {},
   "outputs": [
    {
     "data": {
      "text/html": [
       "<div>\n",
       "<style scoped>\n",
       "    .dataframe tbody tr th:only-of-type {\n",
       "        vertical-align: middle;\n",
       "    }\n",
       "\n",
       "    .dataframe tbody tr th {\n",
       "        vertical-align: top;\n",
       "    }\n",
       "\n",
       "    .dataframe thead th {\n",
       "        text-align: right;\n",
       "    }\n",
       "</style>\n",
       "<table border=\"1\" class=\"dataframe\">\n",
       "  <thead>\n",
       "    <tr style=\"text-align: right;\">\n",
       "      <th></th>\n",
       "      <th>Segment</th>\n",
       "      <th>Total Sales</th>\n",
       "    </tr>\n",
       "  </thead>\n",
       "  <tbody>\n",
       "    <tr>\n",
       "      <th>2</th>\n",
       "      <td>Home Office</td>\n",
       "      <td>5.288424e+05</td>\n",
       "    </tr>\n",
       "    <tr>\n",
       "      <th>1</th>\n",
       "      <td>Corporate</td>\n",
       "      <td>9.287941e+05</td>\n",
       "    </tr>\n",
       "    <tr>\n",
       "      <th>0</th>\n",
       "      <td>Consumer</td>\n",
       "      <td>1.660906e+06</td>\n",
       "    </tr>\n",
       "  </tbody>\n",
       "</table>\n",
       "</div>"
      ],
      "text/plain": [
       "       Segment   Total Sales\n",
       "2  Home Office  5.288424e+05\n",
       "1    Corporate  9.287941e+05\n",
       "0     Consumer  1.660906e+06"
      ]
     },
     "execution_count": 29,
     "metadata": {},
     "output_type": "execute_result"
    }
   ],
   "source": [
    "salessegment"
   ]
  },
  {
   "cell_type": "code",
   "execution_count": 5,
   "id": "826cc7e0-4064-469e-b919-74a239079f32",
   "metadata": {},
   "outputs": [
    {
     "ename": "NameError",
     "evalue": "name 'df' is not defined",
     "output_type": "error",
     "traceback": [
      "\u001b[1;31m---------------------------------------------------------------------------\u001b[0m",
      "\u001b[1;31mNameError\u001b[0m                                 Traceback (most recent call last)",
      "Cell \u001b[1;32mIn[5], line 1\u001b[0m\n\u001b[1;32m----> 1\u001b[0m categorysegment \u001b[38;5;241m=\u001b[39m \u001b[43mdf\u001b[49m\u001b[38;5;241m.\u001b[39mgroupby([\u001b[38;5;124m'\u001b[39m\u001b[38;5;124mcustomer_segment\u001b[39m\u001b[38;5;124m'\u001b[39m,\u001b[38;5;124m'\u001b[39m\u001b[38;5;124mcategory_name\u001b[39m\u001b[38;5;124m'\u001b[39m])[\u001b[38;5;124m'\u001b[39m\u001b[38;5;124morder_id\u001b[39m\u001b[38;5;124m'\u001b[39m]\u001b[38;5;241m.\u001b[39mvaule_counts()\u001b[38;5;241m.\u001b[39mreset_index()\u001b[38;5;241m.\u001b[39mhead(\u001b[38;5;241m5\u001b[39m)\n",
      "\u001b[1;31mNameError\u001b[0m: name 'df' is not defined"
     ]
    }
   ],
   "source": []
  },
  {
   "cell_type": "code",
   "execution_count": 6,
   "id": "f9892c07-ddce-46af-8792-71637f514092",
   "metadata": {},
   "outputs": [
    {
     "ename": "NameError",
     "evalue": "name 'categorysegment' is not defined",
     "output_type": "error",
     "traceback": [
      "\u001b[1;31m---------------------------------------------------------------------------\u001b[0m",
      "\u001b[1;31mNameError\u001b[0m                                 Traceback (most recent call last)",
      "Cell \u001b[1;32mIn[6], line 1\u001b[0m\n\u001b[1;32m----> 1\u001b[0m categorysegment \u001b[38;5;241m=\u001b[39m \u001b[43mcategorysegment\u001b[49m\u001b[38;5;241m.\u001b[39mrename(columns\u001b[38;5;241m=\u001b[39m{\u001b[38;5;124m'\u001b[39m\u001b[38;5;124morder_id\u001b[39m\u001b[38;5;124m'\u001b[39m: \u001b[38;5;124m'\u001b[39m\u001b[38;5;124mCount\u001b[39m\u001b[38;5;124m'\u001b[39m})\n\u001b[0;32m      4\u001b[0m df_sorted \u001b[38;5;241m=\u001b[39m categorysegment\u001b[38;5;241m.\u001b[39msort_values(\u001b[38;5;124m'\u001b[39m\u001b[38;5;124mCount\u001b[39m\u001b[38;5;124m'\u001b[39m, ascending\u001b[38;5;241m=\u001b[39m \u001b[38;5;28;01mFalse\u001b[39;00m)\n\u001b[0;32m      6\u001b[0m top_5 \u001b[38;5;241m=\u001b[39m df_sorted\u001b[38;5;241m.\u001b[39mgroupby(\u001b[38;5;124m'\u001b[39m\u001b[38;5;124mcustomer_segment\u001b[39m\u001b[38;5;124m'\u001b[39m)\u001b[38;5;241m.\u001b[39mhead(\u001b[38;5;241m5\u001b[39m)\n",
      "\u001b[1;31mNameError\u001b[0m: name 'categorysegment' is not defined"
     ]
    }
   ],
   "source": [
    "categorysegment = categorysegment.rename(columns={'order_id': 'Count'})\n",
    "\n",
    "\n",
    "df_sorted = categorysegment.sort_values('Count', ascending= False)\n",
    "\n",
    "top_5 = df_sorted.groupby('customer_segment').head(5)\n",
    "\n",
    "top_5"
   ]
  },
  {
   "cell_type": "code",
   "execution_count": null,
   "id": "f90cc80e-66de-4b47-912d-e2c33e7451ff",
   "metadata": {},
   "outputs": [],
   "source": []
  }
 ],
 "metadata": {
  "kernelspec": {
   "display_name": "Python 3 (ipykernel)",
   "language": "python",
   "name": "python3"
  },
  "language_info": {
   "codemirror_mode": {
    "name": "ipython",
    "version": 3
   },
   "file_extension": ".py",
   "mimetype": "text/x-python",
   "name": "python",
   "nbconvert_exporter": "python",
   "pygments_lexer": "ipython3",
   "version": "3.12.4"
  }
 },
 "nbformat": 4,
 "nbformat_minor": 5
}
